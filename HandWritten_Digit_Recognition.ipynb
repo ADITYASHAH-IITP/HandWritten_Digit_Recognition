{
  "nbformat": 4,
  "nbformat_minor": 0,
  "metadata": {
    "colab": {
      "name": "HandWritten_Digit_Recognition.ipynb",
      "provenance": [],
      "authorship_tag": "ABX9TyNa+kzNjQlK+czsd3Dsj6LI",
      "include_colab_link": true
    },
    "kernelspec": {
      "name": "python3",
      "display_name": "Python 3"
    },
    "language_info": {
      "name": "python"
    },
    "accelerator": "GPU"
  },
  "cells": [
    {
      "cell_type": "markdown",
      "metadata": {
        "id": "view-in-github",
        "colab_type": "text"
      },
      "source": [
        "<a href=\"https://colab.research.google.com/github/ADITYASHAH-IITP/HandWritten_Digit_Recognition/blob/main/HandWritten_Digit_Recognition.ipynb\" target=\"_parent\"><img src=\"https://colab.research.google.com/assets/colab-badge.svg\" alt=\"Open In Colab\"/></a>"
      ]
    },
    {
      "cell_type": "code",
      "execution_count": 57,
      "metadata": {
        "id": "HTdYNdZXT9Tv"
      },
      "outputs": [],
      "source": [
        "import tensorflow as tf"
      ]
    },
    {
      "cell_type": "code",
      "source": [
        "tf.__version__"
      ],
      "metadata": {
        "colab": {
          "base_uri": "https://localhost:8080/",
          "height": 36
        },
        "id": "Z4exm8mjUSSe",
        "outputId": "c902ab2d-2e50-495a-e365-2193589885f2"
      },
      "execution_count": 58,
      "outputs": [
        {
          "output_type": "execute_result",
          "data": {
            "application/vnd.google.colaboratory.intrinsic+json": {
              "type": "string"
            },
            "text/plain": [
              "'2.7.0'"
            ]
          },
          "metadata": {},
          "execution_count": 58
        }
      ]
    },
    {
      "cell_type": "markdown",
      "source": [
        "#HandWritten_Digit_Recognition\n",
        "\n",
        "\n",
        "---\n",
        "\n",
        "\n"
      ],
      "metadata": {
        "id": "RHBGOskpvCFW"
      }
    },
    {
      "cell_type": "code",
      "source": [
        "from tensorflow.keras.models  import Sequential\n",
        "from tensorflow.keras.layers import Dense,Flatten,Softmax,Conv2D,MaxPooling2D"
      ],
      "metadata": {
        "id": "hcUpRYgCvD6t"
      },
      "execution_count": 59,
      "outputs": []
    },
    {
      "cell_type": "markdown",
      "source": [
        "#Preparing Layers "
      ],
      "metadata": {
        "id": "4qXH92R28WrB"
      }
    },
    {
      "cell_type": "code",
      "source": [
        "model = Sequential()\n",
        "model.add(Conv2D(32, (3, 3), activation='relu', kernel_initializer='he_uniform', input_shape=(28, 28, 1)))\n",
        "model.add(MaxPooling2D((2, 2)))\n",
        "model.add(Flatten())\n",
        "model.add(Dense(100, activation='relu', kernel_initializer='he_uniform'))\n",
        "model.add(Dense(10, activation='softmax'))\n"
      ],
      "metadata": {
        "id": "YnNHM0gNvDBR"
      },
      "execution_count": 60,
      "outputs": []
    },
    {
      "cell_type": "markdown",
      "source": [
        "#Preparing Optimizer,Loss and metrics"
      ],
      "metadata": {
        "id": "72MFzuQu8YiJ"
      }
    },
    {
      "cell_type": "code",
      "source": [
        "# compile model\n",
        "opt = SGD(learning_rate=0.01, momentum=0.9)\n",
        "model.compile(optimizer=opt, loss='categorical_crossentropy', metrics=['accuracy'])"
      ],
      "metadata": {
        "id": "cJbk5eGHvPQv"
      },
      "execution_count": 61,
      "outputs": []
    },
    {
      "cell_type": "markdown",
      "source": [
        "# Preparing dataset\n"
      ],
      "metadata": {
        "id": "ZiOrsy4EvcaF"
      }
    },
    {
      "cell_type": "code",
      "source": [
        "from tensorflow.keras.preprocessing import image\n",
        "import matplotlib.pyplot as plt\n",
        "from tensorflow.keras.utils import to_categorical\n",
        "from tensorflow.keras.optimizers import SGD\n",
        "import numpy as np\n",
        "import pandas as pd\n"
      ],
      "metadata": {
        "id": "g0yn007zviNf"
      },
      "execution_count": 62,
      "outputs": []
    },
    {
      "cell_type": "code",
      "source": [
        "mnist_data=tf.keras.datasets.mnist\n",
        "(train_images,train_labels),(test_images,test_labels)=mnist_data.load_data()\n",
        "# reshape dataset to have a single channel\n",
        "train_images = train_images.reshape((train_images.shape[0], 28, 28, 1))\n",
        "test_images = test_images.reshape((test_images.shape[0], 28, 28, 1))\n",
        "\n",
        "\n",
        "# one hot encode target values\n",
        "train_labels = to_categorical(train_labels)\n",
        "test_labels= to_categorical(test_labels)"
      ],
      "metadata": {
        "id": "eEw4AZlJxU6L"
      },
      "execution_count": 63,
      "outputs": []
    },
    {
      "cell_type": "code",
      "source": [
        "train_images.shape"
      ],
      "metadata": {
        "colab": {
          "base_uri": "https://localhost:8080/"
        },
        "id": "zPvGJsvlxq80",
        "outputId": "87f1bede-9d33-4dc9-d279-20d03587c5bb"
      },
      "execution_count": 64,
      "outputs": [
        {
          "output_type": "execute_result",
          "data": {
            "text/plain": [
              "(60000, 28, 28, 1)"
            ]
          },
          "metadata": {},
          "execution_count": 64
        }
      ]
    },
    {
      "cell_type": "markdown",
      "source": [
        "#Img Visualization"
      ],
      "metadata": {
        "id": "z7AORGKJCiEA"
      }
    },
    {
      "cell_type": "code",
      "source": [
        "for i in range(4):\n",
        "\t# define subplot\n",
        "\tplt.subplot(5,1,i+1)\n",
        "\t# plot raw pixel data\n",
        "\ttest_image=train_images[i]\n",
        "\ttest_image=test_image.reshape(28, 28)\n",
        "\tplt.imshow(test_image, cmap=plt.get_cmap('gray'))\n",
        "\t\n",
        "# show the figure\n",
        "plt.show()"
      ],
      "metadata": {
        "colab": {
          "base_uri": "https://localhost:8080/",
          "height": 224
        },
        "id": "Sd7y-UMQCkRA",
        "outputId": "62b95319-0147-473b-8682-b41adcfff9d8"
      },
      "execution_count": 65,
      "outputs": [
        {
          "output_type": "display_data",
          "data": {
            "image/png": "[encoded data removed]",
            "text/plain": [
              "<Figure size 432x288 with 4 Axes>"
            ]
          },
          "metadata": {
            "needs_background": "light"
          }
        }
      ]
    },
    {
      "cell_type": "markdown",
      "source": [
        "#Labels Used For Clothes entity"
      ],
      "metadata": {
        "id": "Grb6x_sb8iOI"
      }
    },
    {
      "cell_type": "markdown",
      "source": [
        "#Rescaling Images"
      ],
      "metadata": {
        "id": "83f_3rXP8oLg"
      }
    },
    {
      "cell_type": "code",
      "source": [
        "train_images=train_images/255.\n",
        "test_images=test_images/255.\n",
        "# convert from integers to floats\n",
        "train_images = train_images.astype('float32')\n",
        "test_images = test_images.astype('float32')\n",
        "# normalize to range 0-1\n",
        "train_images = train_images / 255.0\n",
        "test_images = test_images / 255.0"
      ],
      "metadata": {
        "id": "d5MY7W_FyqBD"
      },
      "execution_count": 66,
      "outputs": []
    },
    {
      "cell_type": "code",
      "source": [
        "\n",
        "random_inx=6\n",
        "i=random_inx\n",
        "test_image=train_images[random_inx]\n",
        "test_image=test_image.reshape(28, 28)\n",
        "plt.imshow(test_image, cmap=plt.get_cmap('gray'))\n",
        "plt.show()\n",
        "print(f\"label: {train_labels[i]}\")"
      ],
      "metadata": {
        "colab": {
          "base_uri": "https://localhost:8080/",
          "height": 284
        },
        "id": "In0pCfbtyyMm",
        "outputId": "cdd8ed10-0544-4348-a37c-acc251a7b325"
      },
      "execution_count": 67,
      "outputs": [
        {
          "output_type": "display_data",
          "data": {
            "image/png": "[encoded data removed]",
            "text/plain": [
              "<Figure size 432x288 with 1 Axes>"
            ]
          },
          "metadata": {
            "needs_background": "light"
          }
        },
        {
          "output_type": "stream",
          "name": "stdout",
          "text": [
            "label: [0. 1. 0. 0. 0. 0. 0. 0. 0. 0.]\n"
          ]
        }
      ]
    },
    {
      "cell_type": "markdown",
      "source": [
        "#Training"
      ],
      "metadata": {
        "id": "EG8_qLvK8raa"
      }
    },
    {
      "cell_type": "code",
      "source": [
        "history=model.fit(train_images,train_labels,epochs=25,batch_size=32,validation_data=(test_images, test_labels),verbose=2)\n"
      ],
      "metadata": {
        "id": "yypXOPhazme1",
        "colab": {
          "base_uri": "https://localhost:8080/"
        },
        "outputId": "9e2bd7c7-0784-4bca-fe9c-f03c698af540"
      },
      "execution_count": 68,
      "outputs": [
        {
          "output_type": "stream",
          "name": "stdout",
          "text": [
            "Epoch 1/25\n",
            "1875/1875 - 9s - loss: 2.2848 - accuracy: 0.1441 - val_loss: 2.2450 - val_accuracy: 0.1010 - 9s/epoch - 5ms/step\n",
            "Epoch 2/25\n",
            "1875/1875 - 8s - loss: 1.5508 - accuracy: 0.5448 - val_loss: 0.6841 - val_accuracy: 0.8168 - 8s/epoch - 4ms/step\n",
            "Epoch 3/25\n",
            "1875/1875 - 8s - loss: 0.5134 - accuracy: 0.8528 - val_loss: 0.3967 - val_accuracy: 0.8884 - 8s/epoch - 4ms/step\n",
            "Epoch 4/25\n",
            "1875/1875 - 8s - loss: 0.3958 - accuracy: 0.8829 - val_loss: 0.3557 - val_accuracy: 0.8953 - 8s/epoch - 4ms/step\n",
            "Epoch 5/25\n",
            "1875/1875 - 8s - loss: 0.3590 - accuracy: 0.8949 - val_loss: 0.3388 - val_accuracy: 0.9004 - 8s/epoch - 4ms/step\n",
            "Epoch 6/25\n",
            "1875/1875 - 8s - loss: 0.3327 - accuracy: 0.9018 - val_loss: 0.2904 - val_accuracy: 0.9165 - 8s/epoch - 4ms/step\n",
            "Epoch 7/25\n",
            "1875/1875 - 8s - loss: 0.3083 - accuracy: 0.9089 - val_loss: 0.2763 - val_accuracy: 0.9185 - 8s/epoch - 4ms/step\n",
            "Epoch 8/25\n",
            "1875/1875 - 8s - loss: 0.3049 - accuracy: 0.9118 - val_loss: 0.2718 - val_accuracy: 0.9234 - 8s/epoch - 4ms/step\n",
            "Epoch 9/25\n",
            "1875/1875 - 8s - loss: 0.2814 - accuracy: 0.9156 - val_loss: 0.2532 - val_accuracy: 0.9270 - 8s/epoch - 4ms/step\n",
            "Epoch 10/25\n",
            "1875/1875 - 9s - loss: 0.2639 - accuracy: 0.9211 - val_loss: 0.2363 - val_accuracy: 0.9290 - 9s/epoch - 5ms/step\n",
            "Epoch 11/25\n",
            "1875/1875 - 8s - loss: 0.2453 - accuracy: 0.9266 - val_loss: 0.2186 - val_accuracy: 0.9322 - 8s/epoch - 4ms/step\n",
            "Epoch 12/25\n",
            "1875/1875 - 8s - loss: 0.2324 - accuracy: 0.9311 - val_loss: 0.2089 - val_accuracy: 0.9372 - 8s/epoch - 4ms/step\n",
            "Epoch 13/25\n",
            "1875/1875 - 8s - loss: 0.2190 - accuracy: 0.9346 - val_loss: 0.1974 - val_accuracy: 0.9406 - 8s/epoch - 4ms/step\n",
            "Epoch 14/25\n",
            "1875/1875 - 9s - loss: 0.2062 - accuracy: 0.9386 - val_loss: 0.2086 - val_accuracy: 0.9378 - 9s/epoch - 5ms/step\n",
            "Epoch 15/25\n",
            "1875/1875 - 8s - loss: 0.1968 - accuracy: 0.9418 - val_loss: 0.1783 - val_accuracy: 0.9444 - 8s/epoch - 4ms/step\n",
            "Epoch 16/25\n",
            "1875/1875 - 8s - loss: 0.1879 - accuracy: 0.9436 - val_loss: 0.1739 - val_accuracy: 0.9466 - 8s/epoch - 4ms/step\n",
            "Epoch 17/25\n",
            "1875/1875 - 8s - loss: 0.1782 - accuracy: 0.9465 - val_loss: 0.1613 - val_accuracy: 0.9523 - 8s/epoch - 4ms/step\n",
            "Epoch 18/25\n",
            "1875/1875 - 8s - loss: 0.1692 - accuracy: 0.9494 - val_loss: 0.1654 - val_accuracy: 0.9478 - 8s/epoch - 4ms/step\n",
            "Epoch 19/25\n",
            "1875/1875 - 8s - loss: 0.1616 - accuracy: 0.9517 - val_loss: 0.1542 - val_accuracy: 0.9526 - 8s/epoch - 4ms/step\n",
            "Epoch 20/25\n",
            "1875/1875 - 8s - loss: 0.1559 - accuracy: 0.9535 - val_loss: 0.1455 - val_accuracy: 0.9554 - 8s/epoch - 4ms/step\n",
            "Epoch 21/25\n",
            "1875/1875 - 8s - loss: 0.1484 - accuracy: 0.9556 - val_loss: 0.1455 - val_accuracy: 0.9572 - 8s/epoch - 4ms/step\n",
            "Epoch 22/25\n",
            "1875/1875 - 8s - loss: 0.1426 - accuracy: 0.9576 - val_loss: 0.1393 - val_accuracy: 0.9578 - 8s/epoch - 4ms/step\n",
            "Epoch 23/25\n",
            "1875/1875 - 8s - loss: 0.1373 - accuracy: 0.9594 - val_loss: 0.1310 - val_accuracy: 0.9606 - 8s/epoch - 4ms/step\n",
            "Epoch 24/25\n",
            "1875/1875 - 8s - loss: 0.1328 - accuracy: 0.9605 - val_loss: 0.1348 - val_accuracy: 0.9579 - 8s/epoch - 4ms/step\n",
            "Epoch 25/25\n",
            "1875/1875 - 8s - loss: 0.1280 - accuracy: 0.9615 - val_loss: 0.1313 - val_accuracy: 0.9611 - 8s/epoch - 4ms/step\n"
          ]
        }
      ]
    },
    {
      "cell_type": "code",
      "source": [
        "df=pd.DataFrame(history.history)\n",
        "df.head()"
      ],
      "metadata": {
        "colab": {
          "base_uri": "https://localhost:8080/",
          "height": 206
        },
        "id": "y5oINxXT0p2m",
        "outputId": "2f760916-7f20-4989-c835-60eaa40645ca"
      },
      "execution_count": 75,
      "outputs": [
        {
          "output_type": "execute_result",
          "data": {
            "text/html": [
              "\n",
              "  <div id=\"df-9ae1b5ad-1a32-40a5-b820-e6deb9db9597\">\n",
              "    <div class=\"colab-df-container\">\n",
              "      <div>\n",
              "<style scoped>\n",
              "    .dataframe tbody tr th:only-of-type {\n",
              "        vertical-align: middle;\n",
              "    }\n",
              "\n",
              "    .dataframe tbody tr th {\n",
              "        vertical-align: top;\n",
              "    }\n",
              "\n",
              "    .dataframe thead th {\n",
              "        text-align: right;\n",
              "    }\n",
              "</style>\n",
              "<table border=\"1\" class=\"dataframe\">\n",
              "  <thead>\n",
              "    <tr style=\"text-align: right;\">\n",
              "      <th></th>\n",
              "      <th>loss</th>\n",
              "      <th>accuracy</th>\n",
              "      <th>val_loss</th>\n",
              "      <th>val_accuracy</th>\n",
              "    </tr>\n",
              "  </thead>\n",
              "  <tbody>\n",
              "    <tr>\n",
              "      <th>0</th>\n",
              "      <td>2.284848</td>\n",
              "      <td>0.144050</td>\n",
              "      <td>2.244976</td>\n",
              "      <td>0.1010</td>\n",
              "    </tr>\n",
              "    <tr>\n",
              "      <th>1</th>\n",
              "      <td>1.550773</td>\n",
              "      <td>0.544817</td>\n",
              "      <td>0.684129</td>\n",
              "      <td>0.8168</td>\n",
              "    </tr>\n",
              "    <tr>\n",
              "      <th>2</th>\n",
              "      <td>0.513376</td>\n",
              "      <td>0.852783</td>\n",
              "      <td>0.396666</td>\n",
              "      <td>0.8884</td>\n",
              "    </tr>\n",
              "    <tr>\n",
              "      <th>3</th>\n",
              "      <td>0.395813</td>\n",
              "      <td>0.882917</td>\n",
              "      <td>0.355742</td>\n",
              "      <td>0.8953</td>\n",
              "    </tr>\n",
              "    <tr>\n",
              "      <th>4</th>\n",
              "      <td>0.358978</td>\n",
              "      <td>0.894900</td>\n",
              "      <td>0.338770</td>\n",
              "      <td>0.9004</td>\n",
              "    </tr>\n",
              "  </tbody>\n",
              "</table>\n",
              "</div>\n",
              "      <button class=\"colab-df-convert\" onclick=\"convertToInteractive('df-9ae1b5ad-1a32-40a5-b820-e6deb9db9597')\"\n",
              "              title=\"Convert this dataframe to an interactive table.\"\n",
              "              style=\"display:none;\">\n",
              "        \n",
              "  <svg xmlns=\"http://www.w3.org/2000/svg\" height=\"24px\"viewBox=\"0 0 24 24\"\n",
              "       width=\"24px\">\n",
              "    <path d=\"M0 0h24v24H0V0z\" fill=\"none\"/>\n",
              "    <path d=\"M18.56 5.44l.94 2.06.94-2.06 2.06-.94-2.06-.94-.94-2.06-.94 2.06-2.06.94zm-11 1L8.5 8.5l.94-2.06 2.06-.94-2.06-.94L8.5 2.5l-.94 2.06-2.06.94zm10 10l.94 2.06.94-2.06 2.06-.94-2.06-.94-.94-2.06-.94 2.06-2.06.94z\"/><path d=\"M17.41 7.96l-1.37-1.37c-.4-.4-.92-.59-1.43-.59-.52 0-1.04.2-1.43.59L10.3 9.45l-7.72 7.72c-.78.78-.78 2.05 0 2.83L4 21.41c.39.39.9.59 1.41.59.51 0 1.02-.2 1.41-.59l7.78-7.78 2.81-2.81c.8-.78.8-2.07 0-2.86zM5.41 20L4 18.59l7.72-7.72 1.47 1.35L5.41 20z\"/>\n",
              "  </svg>\n",
              "      </button>\n",
              "      \n",
              "  <style>\n",
              "    .colab-df-container {\n",
              "      display:flex;\n",
              "      flex-wrap:wrap;\n",
              "      gap: 12px;\n",
              "    }\n",
              "\n",
              "    .colab-df-convert {\n",
              "      background-color: #E8F0FE;\n",
              "      border: none;\n",
              "      border-radius: 50%;\n",
              "      cursor: pointer;\n",
              "      display: none;\n",
              "      fill: #1967D2;\n",
              "      height: 32px;\n",
              "      padding: 0 0 0 0;\n",
              "      width: 32px;\n",
              "    }\n",
              "\n",
              "    .colab-df-convert:hover {\n",
              "      background-color: #E2EBFA;\n",
              "      box-shadow: 0px 1px 2px rgba(60, 64, 67, 0.3), 0px 1px 3px 1px rgba(60, 64, 67, 0.15);\n",
              "      fill: #174EA6;\n",
              "    }\n",
              "\n",
              "    [theme=dark] .colab-df-convert {\n",
              "      background-color: #3B4455;\n",
              "      fill: #D2E3FC;\n",
              "    }\n",
              "\n",
              "    [theme=dark] .colab-df-convert:hover {\n",
              "      background-color: #434B5C;\n",
              "      box-shadow: 0px 1px 3px 1px rgba(0, 0, 0, 0.15);\n",
              "      filter: drop-shadow(0px 1px 2px rgba(0, 0, 0, 0.3));\n",
              "      fill: #FFFFFF;\n",
              "    }\n",
              "  </style>\n",
              "\n",
              "      <script>\n",
              "        const buttonEl =\n",
              "          document.querySelector('#df-9ae1b5ad-1a32-40a5-b820-e6deb9db9597 button.colab-df-convert');\n",
              "        buttonEl.style.display =\n",
              "          google.colab.kernel.accessAllowed ? 'block' : 'none';\n",
              "\n",
              "        async function convertToInteractive(key) {\n",
              "          const element = document.querySelector('#df-9ae1b5ad-1a32-40a5-b820-e6deb9db9597');\n",
              "          const dataTable =\n",
              "            await google.colab.kernel.invokeFunction('convertToInteractive',\n",
              "                                                     [key], {});\n",
              "          if (!dataTable) return;\n",
              "\n",
              "          const docLinkHtml = 'Like what you see? Visit the ' +\n",
              "            '<a target=\"_blank\" href=https://colab.research.google.com/notebooks/data_table.ipynb>data table notebook</a>'\n",
              "            + ' to learn more about interactive tables.';\n",
              "          element.innerHTML = '';\n",
              "          dataTable['output_type'] = 'display_data';\n",
              "          await google.colab.output.renderOutput(dataTable, element);\n",
              "          const docLink = document.createElement('div');\n",
              "          docLink.innerHTML = docLinkHtml;\n",
              "          element.appendChild(docLink);\n",
              "        }\n",
              "      </script>\n",
              "    </div>\n",
              "  </div>\n",
              "  "
            ],
            "text/plain": [
              "       loss  accuracy  val_loss  val_accuracy\n",
              "0  2.284848  0.144050  2.244976        0.1010\n",
              "1  1.550773  0.544817  0.684129        0.8168\n",
              "2  0.513376  0.852783  0.396666        0.8884\n",
              "3  0.395813  0.882917  0.355742        0.8953\n",
              "4  0.358978  0.894900  0.338770        0.9004"
            ]
          },
          "metadata": {},
          "execution_count": 75
        }
      ]
    },
    {
      "cell_type": "code",
      "source": [
        "loss_plot=df.plot(y=\"loss\",title=\"Loss vs Epochs\",legend=False)\n",
        "loss_plot.set(xlabel=\"Epochs\",ylabel=\"Loss\")"
      ],
      "metadata": {
        "colab": {
          "base_uri": "https://localhost:8080/",
          "height": 313
        },
        "id": "mD2-7rdz0tvH",
        "outputId": "f1f27adc-1004-44c0-e4b3-9f3749772084"
      },
      "execution_count": 76,
      "outputs": [
        {
          "output_type": "execute_result",
          "data": {
            "text/plain": [
              "[Text(0, 0.5, 'Loss'), Text(0.5, 0, 'Epochs')]"
            ]
          },
          "metadata": {},
          "execution_count": 76
        },
        {
          "output_type": "display_data",
          "data": {
            "image/png": "[encoded data removed]",
            "text/plain": [
              "<Figure size 432x288 with 1 Axes>"
            ]
          },
          "metadata": {
            "needs_background": "light"
          }
        }
      ]
    },
    {
      "cell_type": "markdown",
      "source": [
        "#Prediction"
      ],
      "metadata": {
        "id": "LiOUqiHI8y8B"
      }
    },
    {
      "cell_type": "code",
      "source": [
        "test_loss,test_accuracy=model.evaluate(test_images,test_labels)  "
      ],
      "metadata": {
        "colab": {
          "base_uri": "https://localhost:8080/"
        },
        "id": "GxZBmYMu4zkj",
        "outputId": "a5c7e9a9-d26f-480c-ebb4-36e10e5a9839"
      },
      "execution_count": 77,
      "outputs": [
        {
          "output_type": "stream",
          "name": "stdout",
          "text": [
            "313/313 [==============================] - 1s 4ms/step - loss: 0.1313 - accuracy: 0.9611\n"
          ]
        }
      ]
    },
    {
      "cell_type": "code",
      "source": [
        "test_images.shape[0]"
      ],
      "metadata": {
        "colab": {
          "base_uri": "https://localhost:8080/"
        },
        "id": "ajcvwh3gOPyN",
        "outputId": "020fa42f-9ac7-449d-a4f0-51e32df43a70"
      },
      "execution_count": 78,
      "outputs": [
        {
          "output_type": "execute_result",
          "data": {
            "text/plain": [
              "10000"
            ]
          },
          "metadata": {},
          "execution_count": 78
        }
      ]
    },
    {
      "cell_type": "code",
      "source": [
        "random_inx=np.random.choice(test_images.shape[0])\n",
        "test_image=test_images[random_inx]\n",
        "test_image=test_image.reshape(28, 28)\n",
        "plt.imshow(test_image, cmap=plt.get_cmap('gray'))\n",
        "plt.show()\n",
        "print(f\"Actual label: {test_labels[random_inx]}\")"
      ],
      "metadata": {
        "colab": {
          "base_uri": "https://localhost:8080/",
          "height": 284
        },
        "id": "ZS8TYXqi5mBl",
        "outputId": "1eec9221-5acb-4684-d5d0-7ba655827559"
      },
      "execution_count": 83,
      "outputs": [
        {
          "output_type": "display_data",
          "data": {
            "image/png": "[encoded data removed]",
            "text/plain": [
              "<Figure size 432x288 with 1 Axes>"
            ]
          },
          "metadata": {
            "needs_background": "light"
          }
        },
        {
          "output_type": "stream",
          "name": "stdout",
          "text": [
            "Actual label: [0. 0. 0. 0. 0. 0. 1. 0. 0. 0.]\n"
          ]
        }
      ]
    },
    {
      "cell_type": "code",
      "source": [
        "prediction=model.predict(test_image[np.newaxis,...,np.newaxis])\n",
        "print(prediction)\n",
        "print(f\"Model Prediction: {np.argmax(prediction)}\")"
      ],
      "metadata": {
        "colab": {
          "base_uri": "https://localhost:8080/"
        },
        "id": "8mcYQ-gg6FYt",
        "outputId": "a575f2b5-8a5d-41e0-cc07-d03f34da5c92"
      },
      "execution_count": 87,
      "outputs": [
        {
          "output_type": "stream",
          "name": "stdout",
          "text": [
            "[[1.41696786e-04 1.46666036e-06 1.05123516e-04 3.02714143e-05\n",
            "  2.85580300e-05 2.29455225e-04 9.97570217e-01 3.21856213e-08\n",
            "  1.89314934e-03 8.84513582e-08]]\n",
            "Model Prediction: 6\n"
          ]
        }
      ]
    },
    {
      "cell_type": "markdown",
      "source": [
        "**So the prediction and the actual labels matches**"
      ],
      "metadata": {
        "id": "XOc73m7I82Qw"
      }
    }
  ]
}